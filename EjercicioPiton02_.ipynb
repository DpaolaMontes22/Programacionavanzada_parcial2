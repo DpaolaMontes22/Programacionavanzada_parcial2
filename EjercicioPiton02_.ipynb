{
  "nbformat": 4,
  "nbformat_minor": 0,
  "metadata": {
    "colab": {
      "name": "EjercicioPiton02_.ipynb",
      "provenance": [],
      "collapsed_sections": [],
      "authorship_tag": "ABX9TyNET3vccbAQBeVXCBId26dF",
      "include_colab_link": true
    },
    "kernelspec": {
      "name": "python3",
      "display_name": "Python 3"
    },
    "language_info": {
      "name": "python"
    }
  },
  "cells": [
    {
      "cell_type": "markdown",
      "metadata": {
        "id": "view-in-github",
        "colab_type": "text"
      },
      "source": [
        "<a href=\"https://colab.research.google.com/github/DpaolaMontes22/Programacionavanzada_parcial2/blob/main/EjercicioPiton02_.ipynb\" target=\"_parent\"><img src=\"https://colab.research.google.com/assets/colab-badge.svg\" alt=\"Open In Colab\"/></a>"
      ]
    },
    {
      "cell_type": "markdown",
      "source": [
        "UPIIH_PROGRAMACION AVANZADA\n",
        "\n",
        "PROGRAMA PARA OBTENER LAS RAICES\n",
        "\n",
        "Danna Paola Montes de Oca Hernandez 2021680104"
      ],
      "metadata": {
        "id": "SZ3kjk6M5VVm"
      }
    },
    {
      "cell_type": "code",
      "source": [
        "import numpy as np\n",
        "import matplotlib.pyplot as plt\n",
        "import sympy as sp\n",
        "from math import *\n",
        "\n",
        "A=open(\"File.txt\",\"w\")\n",
        "A.write(\"\\n\")\n",
        "\n",
        "def funcion(x):\n",
        "    return cos(x)-pow(x,3)\n",
        "\n",
        "def dfuncion(x):\n",
        "    return -sin(x)-3*pow(x,2)\n",
        "\n",
        "def nrfuncion(xi,error,N):\n",
        "    \n",
        "    for i in range(N):\n",
        "        x1=xi-funcion(xi)/dfuncion(xi)\n",
        "       \n",
        "        if(abs(x1-xi)<error):\n",
        "            x=np.linspace(0,x1,i)\n",
        "            plt.plot(x,\"*\")\n",
        "            plt.show()\n",
        "            print(\"x\",i+1,\"=\",x1,end=\" \")\n",
        "            return\n",
        "    \n",
        "        xi=x1\n",
        "        print(\"x\",i+1,\"=\",x1)\n",
        "        A.write(f\"ciclo= {i}  Xi= {xi}  i= {i}  error= {error} \\n\")\n",
        "       \n",
        "nrfuncion(3,0.0000001,10)   \n",
        "A.close()    \n",
        "        \n",
        "        "
      ],
      "metadata": {
        "colab": {
          "base_uri": "https://localhost:8080/",
          "height": 386
        },
        "id": "UZqa0nDc5Vn8",
        "outputId": "4bb81b2b-a99d-4c52-cba6-9e0269d2a3b7"
      },
      "execution_count": 3,
      "outputs": [
        {
          "output_type": "stream",
          "name": "stdout",
          "text": [
            "x 1 = 1.9687237487513964\n",
            "x 2 = 1.3298105427076692\n",
            "x 3 = 0.9931512690706812\n",
            "x 4 = 0.878965193377451\n",
            "x 5 = 0.8656475733308427\n",
            "x 6 = 0.8654740623303405\n"
          ]
        },
        {
          "output_type": "display_data",
          "data": {
            "text/plain": [
              "<Figure size 432x288 with 1 Axes>"
            ],
            "image/png": "[encoded data removed]"
          },
          "metadata": {
            "needs_background": "light"
          }
        },
        {
          "output_type": "stream",
          "name": "stdout",
          "text": [
            "x 7 = 0.8654740331016153 "
          ]
        }
      ]
    }
  ]
}