{
  "nbformat": 4,
  "nbformat_minor": 0,
  "metadata": {
    "colab": {
      "name": "EjercicioPiton03_.ipynb",
      "provenance": [],
      "collapsed_sections": [],
      "authorship_tag": "ABX9TyN7Hp15rUYlKQTXEjHlnKWv",
      "include_colab_link": true
    },
    "kernelspec": {
      "name": "python3",
      "display_name": "Python 3"
    },
    "language_info": {
      "name": "python"
    }
  },
  "cells": [
    {
      "cell_type": "markdown",
      "metadata": {
        "id": "view-in-github",
        "colab_type": "text"
      },
      "source": [
        "<a href=\"https://colab.research.google.com/github/DpaolaMontes22/Programacionavanzada_parcial2/blob/main/EjercicioPiton03_.ipynb\" target=\"_parent\"><img src=\"https://colab.research.google.com/assets/colab-badge.svg\" alt=\"Open In Colab\"/></a>"
      ]
    },
    {
      "cell_type": "markdown",
      "source": [
        "UPIIH_PROGRAMACION AVANZADA\n",
        "\n",
        "PROGRAMA QUE OBTIENE RAICES DE POLINOMIOS DE FUNCION\n",
        "\n",
        "Danna Paola Montes de Oca Hernandez 2021680104"
      ],
      "metadata": {
        "id": "e1iIq4K7mx8q"
      }
    },
    {
      "cell_type": "code",
      "source": [
        "import cmath\n",
        "import random\n",
        "\n",
        "\n",
        "def base(z):\n",
        "    return round(z.real, 7) + round(z.imag, 7) * 1j\n",
        "def bairstow(a, r, s, g, roots):\n",
        "    if (g < 1):\n",
        "        return None\n",
        "    if (g == 1):\n",
        "        roots.append(float(-a[0]) / float(a[1]))\n",
        "        return None\n",
        "    if (g == 2):\n",
        "        D = (a[1] ** 2.0) - (4.0) * (a[2]) * (a[0])\n",
        "        X1 = (-a[1] - cmath.sqrt(D)) / (2.0 * a[2])\n",
        "        X2 = (-a[1] + cmath.sqrt(D)) / (2.0 * a[2])\n",
        "        roots.append(X1)\n",
        "        roots.append(X2)\n",
        "        return None\n",
        "    n = len(a)\n",
        "    b = [0] * len(a)\n",
        "    c = [0] * len(a)\n",
        "    b[n - 1] = a[n - 1]\n",
        "    b[n - 2] = a[n - 2] + r * b[n - 1]\n",
        "    i = n - 3\n",
        "    while (i >= 0):\n",
        "        b[i] = a[i] + r * b[i + 1] + s * b[i + 2]\n",
        "        i = i - 1\n",
        "    c[n - 1] = b[n - 1]\n",
        "    c[n - 2] = b[n - 2] + r * c[n - 1]\n",
        "    i = n - 3\n",
        "    while (i >= 0):\n",
        "        c[i] = b[i] + r * c[i + 1] + s * c[i + 2]\n",
        "        i = i - 1\n",
        "    Din = ((c[2] * c[2]) - (c[3] * c[1])) ** (-1.0)\n",
        "    r = r + (Din) * ((c[2]) * (-b[1]) + (-c[3]) * (-b[0]))\n",
        "    s = s + (Din) * ((-c[1]) * (-b[1]) + (c[2]) * (-b[0]))\n",
        "    if (abs(b[0]) > 1E-8 or abs(b[1]) > 1E-8):\n",
        "        return bairstow(a, r, s, g, roots)\n",
        "    if (g >= 3):\n",
        "        Dis = ((-r) ** (2.0)) - ((4.0) * (1.0) * (-s))\n",
        "        X1 = (r - (cmath.sqrt(Dis))) / (2.0)\n",
        "        X2 = (r + (cmath.sqrt(Dis))) / (2.0)\n",
        "        roots.append(X1)\n",
        "        roots.append(X2)\n",
        "        return bairstow(b[2:], r, s, g - 2, roots)\n",
        "raices = []\n",
        "a = []\n",
        "g = input(\"Mayor exponente: \")\n",
        "while not g.isdigit():\n",
        "    g = input(\" mayor exponente a agregar al polinomio : \")\n",
        "\n",
        "g = int(g)\n",
        "for k in range(0, g + 1):\n",
        "    A = float(input(\"Coef. X^\" + str(g - k) + \" ? : \"))\n",
        "    a.append(A)\n",
        "a.reverse()\n",
        "print(a)\n",
        "k = 1\n",
        "r = random.random()\n",
        "s = random.random()\n",
        "bairstow(a, r, s, g, raices)\n",
        "print(\"Las raices:\")\n",
        "for r in raices:\n",
        "    print(\"R\" + str(k) + \" = \" + str(base(r)))\n",
        "    k += 1"
      ],
      "metadata": {
        "colab": {
          "base_uri": "https://localhost:8080/"
        },
        "id": "PoZEUbbYmyOQ",
        "outputId": "7a4bd60f-07bf-46fd-f037-04be00744bc7"
      },
      "execution_count": 1,
      "outputs": [
        {
          "output_type": "stream",
          "name": "stdout",
          "text": [
            "Mayor exponente: 5\n",
            "Coef. X^5 ? : 6\n",
            "Coef. X^4 ? : 5\n",
            "Coef. X^3 ? : 4\n",
            "Coef. X^2 ? : 4\n",
            "Coef. X^1 ? : 4\n",
            "Coef. X^0 ? : 2\n",
            "[2.0, 4.0, 4.0, 4.0, 5.0, 6.0]\n",
            "Las raices:\n",
            "R1 = (-0.4902948-0.6027224j)\n",
            "R2 = (-0.4902948+0.6027224j)\n",
            "R3 = (0.4214528-0.7849494j)\n",
            "R4 = (0.4214528+0.7849494j)\n",
            "R5 = (-0.6956494+0j)\n"
          ]
        }
      ]
    }
  ]
}