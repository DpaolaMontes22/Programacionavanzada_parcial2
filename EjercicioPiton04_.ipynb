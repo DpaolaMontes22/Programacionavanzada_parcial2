{
  "nbformat": 4,
  "nbformat_minor": 0,
  "metadata": {
    "colab": {
      "name": "EjercicioPiton04_.ipynb",
      "provenance": [],
      "collapsed_sections": [],
      "authorship_tag": "ABX9TyPBJsz9Dj8iUDCb9nTaJjSV",
      "include_colab_link": true
    },
    "kernelspec": {
      "name": "python3",
      "display_name": "Python 3"
    },
    "language_info": {
      "name": "python"
    }
  },
  "cells": [
    {
      "cell_type": "markdown",
      "metadata": {
        "id": "view-in-github",
        "colab_type": "text"
      },
      "source": [
        "<a href=\"https://colab.research.google.com/github/DpaolaMontes22/Programacionavanzada_parcial2/blob/main/EjercicioPiton04_.ipynb\" target=\"_parent\"><img src=\"https://colab.research.google.com/assets/colab-badge.svg\" alt=\"Open In Colab\"/></a>"
      ]
    },
    {
      "cell_type": "markdown",
      "source": [
        "UPIIH_PROGRAMACION AVANZADA\n",
        "\n",
        "PROGRAMA QUE PERMITE OBTENER LA INTEGRAL DEFINIDA\n",
        "\n",
        "Danna Paola Montes de Oca Hernandez 2021680104"
      ],
      "metadata": {
        "id": "8TuoKjSv75Uu"
      }
    },
    {
      "cell_type": "code",
      "source": [
        "from math import *\n",
        "from io import open\n",
        "\n",
        "\n",
        "A=open(\"File.txt\",\"w\")\n",
        "\n",
        "def funcion(x):\n",
        "    return cos(x)-pow(x,2)\n",
        "intervaloInicio  = float(input(\"Ingresa el inicio del intervalo : \")) \n",
        "intervaloFin = float(input(\"Ingresa el fin del intervalo: \")) \n",
        "intervaloNumero= int(input(\"Ingresa el numero del intervalo: \")) \n",
        "IntervaloH = (intervaloFin-intervaloInicio)/intervaloNumero\n",
        "\n",
        "suma=0.0\n",
        "for i in range(1,intervaloNumero):\n",
        "    x=intervaloInicio+i*IntervaloH\n",
        "    suma=suma+funcion(x)\n",
        "    \n",
        "t=IntervaloH*(funcion(intervaloInicio)+2*suma+funcion(intervaloFin))/2\n",
        "A.write(f\"n= {intervaloNumero}  h= {IntervaloH}  trap= {t} \\n\")\n",
        "\n",
        "print(t)\n",
        "A.close()"
      ],
      "metadata": {
        "colab": {
          "base_uri": "https://localhost:8080/"
        },
        "id": "qIyfBlOF77Bl",
        "outputId": "bcae48ba-0940-4845-e088-f7a4b087436d"
      },
      "execution_count": 3,
      "outputs": [
        {
          "output_type": "stream",
          "name": "stdout",
          "text": [
            "Ingresa el inicio del intervalo : 2\n",
            "Ingresa el fin del intervalo: 7\n",
            "Ingresa el numero del intervalo: 5\n",
            "-112.73092593645238\n"
          ]
        }
      ]
    }
  ]
}