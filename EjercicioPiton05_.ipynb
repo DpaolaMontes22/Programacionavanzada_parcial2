{
  "nbformat": 4,
  "nbformat_minor": 0,
  "metadata": {
    "colab": {
      "name": "EjercicioPiton05_.ipynb",
      "provenance": [],
      "collapsed_sections": [],
      "authorship_tag": "ABX9TyOXF3hnOKNFPnMnsRRtgIU6",
      "include_colab_link": true
    },
    "kernelspec": {
      "name": "python3",
      "display_name": "Python 3"
    },
    "language_info": {
      "name": "python"
    }
  },
  "cells": [
    {
      "cell_type": "markdown",
      "metadata": {
        "id": "view-in-github",
        "colab_type": "text"
      },
      "source": [
        "<a href=\"https://colab.research.google.com/github/DpaolaMontes22/Programacionavanzada_parcial2/blob/main/EjercicioPiton05_.ipynb\" target=\"_parent\"><img src=\"https://colab.research.google.com/assets/colab-badge.svg\" alt=\"Open In Colab\"/></a>"
      ]
    },
    {
      "cell_type": "markdown",
      "source": [
        "UPIIH_PROGRAMACION AVANZADA\n",
        "\n",
        "PROGRAMA QUE SIMULA \"El Camino o Paseo Aleatorio (Random Walk)\"\n",
        "\n",
        "Danna Paola Montes de Oca Hernandez 2021680104"
      ],
      "metadata": {
        "id": "QLCQ0Z6aAxaE"
      }
    },
    {
      "cell_type": "code",
      "source": [
        "import numpy as np\n",
        "import pylab\n",
        "import random\n",
        "  \n",
        "\n",
        "pasos = int(input(\"Ingrese el numero de pasos:  \"))\n",
        "\n",
        "\n",
        "xd = np.zeros(pasos)\n",
        "yd = np.zeros(pasos)\n",
        "  \n",
        "\n",
        "for i in range(1, pasos):\n",
        "    variable = random.randint(1, 4)\n",
        "    if variable == 1:\n",
        "        xd[i] = xd[i - 1] + 1\n",
        "        yd[i] = yd[i - 1]\n",
        "    elif variable == 2:\n",
        "        xd[i] = xd[i - 1] - 1\n",
        "        yd[i] = yd[i - 1]\n",
        "    elif variable == 3:\n",
        "        xd[i] = xd[i - 1]\n",
        "        yd[i] = yd[i - 1] + 1\n",
        "    else:\n",
        "        xd[i] = xd[i - 1]\n",
        "        yd[i] = yd[i - 1] - 1\n",
        "      \n",
        "  \n",
        "\n",
        "pylab.title(\"paseo aleatorio ($pasos = \" + str(pasos) + \"$ pasos)\")\n",
        "pylab.plot(xd, yd)\n",
        "\n",
        "pylab.savefig(\"paseo_aleatorio\"+str(pasos)+\".png\",bbox_inches=\"tight\",dpi=600)\n",
        "pylab.show()"
      ],
      "metadata": {
        "colab": {
          "base_uri": "https://localhost:8080/",
          "height": 300
        },
        "id": "-1ZXat7UAxqB",
        "outputId": "26dcb66a-c779-40b4-f70b-f182a2deec2d"
      },
      "execution_count": 3,
      "outputs": [
        {
          "name": "stdout",
          "output_type": "stream",
          "text": [
            "Ingrese el numero de pasos:  14\n"
          ]
        },
        {
          "output_type": "display_data",
          "data": {
            "text/plain": [
              "<Figure size 432x288 with 1 Axes>"
            ],
            "image/png": "[encoded data removed]"
          },
          "metadata": {
            "needs_background": "light"
          }
        }
      ]
    }
  ]
}