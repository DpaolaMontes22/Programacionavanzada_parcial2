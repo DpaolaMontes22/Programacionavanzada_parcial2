{
  "nbformat": 4,
  "nbformat_minor": 0,
  "metadata": {
    "colab": {
      "name": "EjercicioPiton06_.ipynb",
      "provenance": [],
      "collapsed_sections": [],
      "authorship_tag": "ABX9TyMvMe1FaByy/FILuo2r9Een",
      "include_colab_link": true
    },
    "kernelspec": {
      "name": "python3",
      "display_name": "Python 3"
    },
    "language_info": {
      "name": "python"
    }
  },
  "cells": [
    {
      "cell_type": "markdown",
      "metadata": {
        "id": "view-in-github",
        "colab_type": "text"
      },
      "source": [
        "<a href=\"https://colab.research.google.com/github/DpaolaMontes22/Programacionavanzada_parcial2/blob/main/EjercicioPiton06_.ipynb\" target=\"_parent\"><img src=\"https://colab.research.google.com/assets/colab-badge.svg\" alt=\"Open In Colab\"/></a>"
      ]
    },
    {
      "cell_type": "markdown",
      "source": [
        "UPIIH_PROGRAMACION AVANZADA\n",
        "\n",
        "PROGRAMA QUE OBTIENE LA SERIE DE PADOVAN\n",
        "\n",
        "Danna Paola Montes de Oca Hernandez 2021680104"
      ],
      "metadata": {
        "id": "50YeQ8ccCi28"
      }
    },
    {
      "cell_type": "code",
      "source": [
        "i=0 \n",
        "a=1 \n",
        "b=1\n",
        "c=1\n",
        "d=0\n",
        "ciclo=True\n",
        "while ciclo:\n",
        " try:\n",
        "     pass \n",
        "     print(\"Numero de digitos de la sucesion:\")\n",
        "     i = int(input())\n",
        "     if i>0:\n",
        "         ciclo=False\n",
        "          \n",
        " except Exception:\n",
        "     pass\n",
        "     print(\"No es positivo\")  \n",
        "\n",
        "print(a,\",\",b,\",\",c, end=\"\")\n",
        "\n",
        "for n in range(4,i+1):\n",
        "    d=b+a\n",
        "    a=b\n",
        "    b=c\n",
        "    c=d\n",
        "    print(\",\",d,end=\"\")\n"
      ],
      "metadata": {
        "colab": {
          "base_uri": "https://localhost:8080/"
        },
        "id": "aGAJujsUCjS-",
        "outputId": "a21eea9c-2866-4758-d58f-88482f1f68be"
      },
      "execution_count": 1,
      "outputs": [
        {
          "output_type": "stream",
          "name": "stdout",
          "text": [
            "Numero de digitos de la sucesion:\n",
            "5\n",
            "1 , 1 , 1, 2, 2"
          ]
        }
      ]
    }
  ]
}