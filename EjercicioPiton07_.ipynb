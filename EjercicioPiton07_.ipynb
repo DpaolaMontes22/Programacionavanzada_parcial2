{
  "nbformat": 4,
  "nbformat_minor": 0,
  "metadata": {
    "colab": {
      "name": "EjercicioPiton07_.ipynb",
      "provenance": [],
      "collapsed_sections": [],
      "authorship_tag": "ABX9TyPXO4RWozZl4455Jkh9FOYF",
      "include_colab_link": true
    },
    "kernelspec": {
      "name": "python3",
      "display_name": "Python 3"
    },
    "language_info": {
      "name": "python"
    }
  },
  "cells": [
    {
      "cell_type": "markdown",
      "metadata": {
        "id": "view-in-github",
        "colab_type": "text"
      },
      "source": [
        "<a href=\"https://colab.research.google.com/github/DpaolaMontes22/Programacionavanzada_parcial2/blob/main/EjercicioPiton07_.ipynb\" target=\"_parent\"><img src=\"https://colab.research.google.com/assets/colab-badge.svg\" alt=\"Open In Colab\"/></a>"
      ]
    },
    {
      "cell_type": "markdown",
      "source": [
        "UPIIH_PROGRAMACION AVANZADA\n",
        "\n",
        "PROGRAMA QUE OBTIENE LA SUMA HARMONICA \n",
        "\n",
        "Danna Paola Montes de Oca Hernandez 2021680104"
      ],
      "metadata": {
        "id": "bluXMLZyD9SA"
      }
    },
    {
      "cell_type": "code",
      "source": [
        "\n",
        "ciclo=True\n",
        "while ciclo:\n",
        " try:\n",
        "     pass \n",
        "     print(\"Numero:\")\n",
        "     numero = int(input())\n",
        "     if numero>0:\n",
        "         ciclo=False\n",
        "          \n",
        " except Exception:\n",
        "     pass\n",
        "     print(\"No es un numero positivo!\")  \n",
        "\n",
        "resultado=0\n",
        "\n",
        "for i in range(1,numero+1):\n",
        "    resultado=resultado+1/i\n",
        "\n",
        "print(resultado)"
      ],
      "metadata": {
        "colab": {
          "base_uri": "https://localhost:8080/"
        },
        "id": "2wfjzqIUD9jH",
        "outputId": "e97471d7-578f-4356-b690-d16af25ebf39"
      },
      "execution_count": 3,
      "outputs": [
        {
          "output_type": "stream",
          "name": "stdout",
          "text": [
            "Numero:\n",
            "8\n",
            "2.7178571428571425\n"
          ]
        }
      ]
    }
  ]
}