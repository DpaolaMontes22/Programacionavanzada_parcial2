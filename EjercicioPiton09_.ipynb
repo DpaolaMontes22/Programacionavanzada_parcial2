{
  "nbformat": 4,
  "nbformat_minor": 0,
  "metadata": {
    "colab": {
      "name": "EjercicioPiton09_.ipynb",
      "provenance": [],
      "collapsed_sections": [],
      "authorship_tag": "ABX9TyO3vKEnEMzCsa9w3xSjSRvy",
      "include_colab_link": true
    },
    "kernelspec": {
      "name": "python3",
      "display_name": "Python 3"
    },
    "language_info": {
      "name": "python"
    }
  },
  "cells": [
    {
      "cell_type": "markdown",
      "metadata": {
        "id": "view-in-github",
        "colab_type": "text"
      },
      "source": [
        "<a href=\"https://colab.research.google.com/github/DpaolaMontes22/Programacionavanzada_parcial2/blob/main/EjercicioPiton09_.ipynb\" target=\"_parent\"><img src=\"https://colab.research.google.com/assets/colab-badge.svg\" alt=\"Open In Colab\"/></a>"
      ]
    },
    {
      "cell_type": "markdown",
      "source": [
        "UPIIH_PROGRAMACION AVANZADA\n",
        "\n",
        "PROGRAMA QUE SIMULA LA ENTREGA DE CARTAS\n",
        "\n",
        "Danna Paola Montes de Oca Hernandez 2021680104"
      ],
      "metadata": {
        "id": "HW6HxxhUKyDa"
      }
    },
    {
      "cell_type": "code",
      "source": [
        "mazo=[\"ACorazones\",\"2Corazones\",\"3Corazones\",\"4Corazones\",\"5Corazones\",\"6Corazones\",\"7Corazones\",\"8Corazones\",\"9Corazones\",\"10Corazones\",\"JCorazones\",\"QCorazones\",\"KCorazones\",\n",
        "        \"APicas\",\"2Picas\",\"3Picas\",\"4Picas\",\"5Picas\",\"6Picas\",\"7Picas\",\"8Picas\",\"9Picas\",\"10Picas\",\"JPicas\",\"QPicas\",\"KPicas\",\n",
        "        \"ATreboles\",\"2Treboles\",\"3Treboles\",\"4Treboles\",\"5Treboles\",\"6Treboles\",\"7Treboles\",\"8Treboles\",\"9Treboles\",\"10Treboles\",\"JTreboles\",\"QTreboles\",\"KTreboles\",\n",
        "        \"ARombos\",\"2Rombos\",\"3Rombos\",\"4Rombos\",\"5Rombos\",\"6Rombos\",\"7Rombos\",\"8Rombos\",\"9Rombos\",\"10Rombos\",\"JRombos\",\"QRombos\",\"KRombos\"]\n",
        "\n",
        "player1=[]\n",
        "player2=[]\n",
        "\n",
        "\n",
        "from random import sample\n",
        "numeros=sample(range(0,52),10)\n",
        "\n",
        "for p1 in range(0,5):\n",
        "    player1.append(mazo[numeros[p1]])\n",
        "\n",
        "for p2 in range(5,10):\n",
        "    player2.append(mazo[numeros[p2]])\n",
        "\n",
        "print(\"Cartas del jugador 1:\")\n",
        "print(player1)\n",
        "\n",
        "print(\"Cartas del jugador 2:\")\n",
        "print(player2)"
      ],
      "metadata": {
        "colab": {
          "base_uri": "https://localhost:8080/"
        },
        "id": "w5YIud2gKyj4",
        "outputId": "c7d6f62d-2c99-4331-8689-a485f1797430"
      },
      "execution_count": 3,
      "outputs": [
        {
          "output_type": "stream",
          "name": "stdout",
          "text": [
            "Cartas del jugador 1:\n",
            "['5Picas', '6Rombos', 'QCorazones', 'KTreboles', '5Treboles']\n",
            "Cartas del jugador 2:\n",
            "['8Treboles', '4Corazones', '3Treboles', '3Rombos', '6Picas']\n"
          ]
        }
      ]
    }
  ]
}