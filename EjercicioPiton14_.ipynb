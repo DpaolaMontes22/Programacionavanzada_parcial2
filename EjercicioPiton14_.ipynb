{
  "nbformat": 4,
  "nbformat_minor": 0,
  "metadata": {
    "colab": {
      "name": "EjercicioPiton14_.ipynb",
      "provenance": [],
      "collapsed_sections": [],
      "authorship_tag": "ABX9TyMuxKEGl7MsNzgF5lhy32MR",
      "include_colab_link": true
    },
    "kernelspec": {
      "name": "python3",
      "display_name": "Python 3"
    },
    "language_info": {
      "name": "python"
    }
  },
  "cells": [
    {
      "cell_type": "markdown",
      "metadata": {
        "id": "view-in-github",
        "colab_type": "text"
      },
      "source": [
        "<a href=\"https://colab.research.google.com/github/DpaolaMontes22/Programacionavanzada_parcial2/blob/main/EjercicioPiton14_.ipynb\" target=\"_parent\"><img src=\"https://colab.research.google.com/assets/colab-badge.svg\" alt=\"Open In Colab\"/></a>"
      ]
    },
    {
      "cell_type": "markdown",
      "source": [
        "UPIIH_PROGRAMACION AVANZADA\n",
        "\n",
        "PROGRAMA QUE RESULVE EL PROBLEMA DE LAS 8 REINAS\n",
        "\n",
        "Danna Paola Montes de Oca Hernandez 2021680104\n"
      ],
      "metadata": {
        "id": "SYRYMirkbd8A"
      }
    },
    {
      "cell_type": "code",
      "source": [
        "ciclo=True\n",
        "while ciclo:\n",
        " try:\n",
        "     pass \n",
        "     print(\"Ingrese la posicion:\")\n",
        "     print(\"Fila:\")\n",
        "     x1 = int(input())\n",
        "     print(\"Columna:\")\n",
        "     y1= int(input())\n",
        "\n",
        "     if -1<y1<8 and -1<x1<8:\n",
        "         ciclo=False\n",
        "          \n",
        " except Exception:\n",
        "     pass\n",
        "     print(\"No es psotitivo!\")  \n",
        "\n",
        "import random\n",
        "random.choice([1,2,3])\n",
        "def disponibles(y,n):\n",
        "    columnasDisponibles = []\n",
        "    for x in range(n):\n",
        "        if x1!=x and y1!=y:\n",
        "            if(columna[x] or diagonalIzquierda[x+y] or diagonalDerecha[x-y+n-1]): \n",
        "                \n",
        "                continue\n",
        "            columnasDisponibles.append(x)\n",
        "    return columnasDisponibles\n",
        "\n",
        "\n",
        "\n",
        "if([]):\n",
        "    print(\"y\")\n",
        "else:\n",
        "    print(\"n\")\n",
        "    \n",
        "\n",
        "n = 8\n",
        "solucion = []\n",
        "\n",
        "import numpy as np\n",
        "tablero=np.zeros([8,8])\n",
        "\n",
        "columna = [False]*n\n",
        "diagonalIzquierda = [False]*(n*2)\n",
        "diagonalDerecha = [False]*(n*2)\n",
        "\n",
        "while(len(solucion)!=n and n>3):\n",
        "\n",
        "    solucion = [(x1,y1)]\n",
        "    columna = [False]*n\n",
        "    diagonalIzquierda = [False]*(n*2)\n",
        "    diagonalDerecha = [False]*(n*2)\n",
        "    \n",
        "    for y in range(n):\n",
        "        if y1!=y:\n",
        "           \n",
        "            columnas_d = disponibles(y,n)\n",
        "         \n",
        "            if(columnas_d):\n",
        "                x = random.choice(columnas_d)\n",
        "            else:\n",
        "                break\n",
        "            \n",
        "            columna[x] = diagonalIzquierda[x+y] = diagonalDerecha[x-y+n-1] = True\n",
        "            solucion.append((x,y))\n",
        "        \n",
        "print(solucion)\n",
        "\n",
        "for i in range(len(solucion)):\n",
        "    ejes=solucion[i]\n",
        "    tablero[ejes[0],ejes[1]]=1\n",
        "print(tablero)"
      ],
      "metadata": {
        "colab": {
          "base_uri": "https://localhost:8080/"
        },
        "id": "2weTTkFCbeTK",
        "outputId": "a7a0752e-d000-40d5-e963-1fdd10c0847d"
      },
      "execution_count": 6,
      "outputs": [
        {
          "output_type": "stream",
          "name": "stdout",
          "text": [
            "Ingrese la posicion:\n",
            "Fila:\n",
            "1\n",
            "Columna:\n",
            "1\n",
            "n\n",
            "[(1, 1), (6, 0), (5, 2), (2, 3), (0, 4), (3, 5), (7, 6), (4, 7)]\n",
            "[[0. 0. 0. 0. 1. 0. 0. 0.]\n",
            " [0. 1. 0. 0. 0. 0. 0. 0.]\n",
            " [0. 0. 0. 1. 0. 0. 0. 0.]\n",
            " [0. 0. 0. 0. 0. 1. 0. 0.]\n",
            " [0. 0. 0. 0. 0. 0. 0. 1.]\n",
            " [0. 0. 1. 0. 0. 0. 0. 0.]\n",
            " [1. 0. 0. 0. 0. 0. 0. 0.]\n",
            " [0. 0. 0. 0. 0. 0. 1. 0.]]\n"
          ]
        }
      ]
    }
  ]
}