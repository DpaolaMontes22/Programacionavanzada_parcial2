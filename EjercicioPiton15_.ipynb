{
  "nbformat": 4,
  "nbformat_minor": 0,
  "metadata": {
    "colab": {
      "name": "EjercicioPiton15_.ipynb",
      "provenance": [],
      "collapsed_sections": [],
      "authorship_tag": "ABX9TyOL6Lm/I/yjf/CxqjvAysKw",
      "include_colab_link": true
    },
    "kernelspec": {
      "name": "python3",
      "display_name": "Python 3"
    },
    "language_info": {
      "name": "python"
    }
  },
  "cells": [
    {
      "cell_type": "markdown",
      "metadata": {
        "id": "view-in-github",
        "colab_type": "text"
      },
      "source": [
        "<a href=\"https://colab.research.google.com/github/DpaolaMontes22/Programacionavanzada_parcial2/blob/main/EjercicioPiton15_.ipynb\" target=\"_parent\"><img src=\"https://colab.research.google.com/assets/colab-badge.svg\" alt=\"Open In Colab\"/></a>"
      ]
    },
    {
      "cell_type": "markdown",
      "source": [
        "UPIIH_PROGRAMACION AVANZADA\n",
        "\n",
        "PROGRAMA SERIE DE FIBONACCI\n",
        "\n",
        "Danna Paola Montes de Oca Hernandez 2021680104"
      ],
      "metadata": {
        "id": "Q2NmYqA4j_H1"
      }
    },
    {
      "cell_type": "code",
      "source": [
        "import sys\n",
        "def fibonacciFuncion(num): \n",
        "    a=0 \n",
        "    b=1 \n",
        "\n",
        "    for k in range (num): \n",
        "        c= a+b \n",
        "        a= b\n",
        "        b= c\n",
        "    return b \n",
        "\n",
        "num= int(input('ingrese el numero de digitos de la serie'))\n",
        "for  x in range (num): \n",
        "    print((fibonacciFuncion(x)))\n"
      ],
      "metadata": {
        "colab": {
          "base_uri": "https://localhost:8080/"
        },
        "id": "dzYxOvdGj_Uc",
        "outputId": "d4535f4a-6b02-4542-e10c-75624ce579dc"
      },
      "execution_count": 11,
      "outputs": [
        {
          "output_type": "stream",
          "name": "stdout",
          "text": [
            "ingrese el numero de digitos de la serie6\n",
            "1\n",
            "1\n",
            "2\n",
            "3\n",
            "5\n",
            "8\n"
          ]
        }
      ]
    }
  ]
}