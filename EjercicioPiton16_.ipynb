{
  "nbformat": 4,
  "nbformat_minor": 0,
  "metadata": {
    "colab": {
      "name": "EjercicioPiton16_.ipynb",
      "provenance": [],
      "collapsed_sections": [],
      "authorship_tag": "ABX9TyNOSHA/N7v62VlQunt/SNMQ",
      "include_colab_link": true
    },
    "kernelspec": {
      "name": "python3",
      "display_name": "Python 3"
    },
    "language_info": {
      "name": "python"
    }
  },
  "cells": [
    {
      "cell_type": "markdown",
      "metadata": {
        "id": "view-in-github",
        "colab_type": "text"
      },
      "source": [
        "<a href=\"https://colab.research.google.com/github/DpaolaMontes22/Programacionavanzada_parcial2/blob/main/EjercicioPiton16_.ipynb\" target=\"_parent\"><img src=\"https://colab.research.google.com/assets/colab-badge.svg\" alt=\"Open In Colab\"/></a>"
      ]
    },
    {
      "cell_type": "markdown",
      "source": [
        "UPIIH_PROGRAMACION AVANZADA\n",
        "\n",
        "PROGRAMA QUE REALIZA ESTADISTICA DEL TEXTO \"ROMEO Y JULIETA\"\n",
        "\n",
        "Danna Paola Montes de Oca Hernandez 2021680104"
      ],
      "metadata": {
        "id": "yMXNBW-xd-Et"
      }
    },
    {
      "cell_type": "code",
      "source": [
        "import urllib.request\n",
        "texto = urllib.request.urlopen('https://automatetheboringstuff.com/files/rj.txt').read().decode()\n",
        "\n",
        "ABECEDARIO=[\"A\",\"B\",\"C\",\"D\",\"E\",\"F\",\"G\",\"H\",\"I\",\"J\",\"K\",\"L\",\"M\",\"N\",\"Ñ\",\"O\",\"P\",\"Q\",\"R\",\"S\",\"T\",\"U\",\"V\",\"W\",\"X\",\"Y\",\"Z\"]\n",
        "abecedario=[\"a\",\"b\",\"c\",\"d\",\"e\",\"f\",\"g\",\"h\",\"i\",\"j\",\"k\",\"l\",\"m\",\"n\",\"ñ\",\"o\",\"p\",\"q\",\"r\",\"s\",\"t\",\"u\",\"v\",\"w\",\"x\",\"y\",\"z\"]\n",
        "\n",
        "print(\" mayusculas\")\n",
        "for i in range(len(ABECEDARIO)):\n",
        "    print(f\"El caracter {ABECEDARIO[i]} existe: {texto.count(ABECEDARIO[i])}\")\n",
        "    \n",
        "print(\"     minusculas\")\n",
        "for j in range(len(abecedario)):\n",
        "    print(f\"El caracter {abecedario[j]} existe: {texto.count(abecedario[j])}\")"
      ],
      "metadata": {
        "colab": {
          "base_uri": "https://localhost:8080/"
        },
        "id": "AsUFONwLd-Vq",
        "outputId": "1ae38408-93b2-4d7c-aa05-4990306df693"
      },
      "execution_count": 3,
      "outputs": [
        {
          "output_type": "stream",
          "name": "stdout",
          "text": [
            " mayusculas\n",
            "El caracter A existe: 621\n",
            "El caracter B existe: 335\n",
            "El caracter C existe: 320\n",
            "El caracter D existe: 156\n",
            "El caracter E existe: 393\n",
            "El caracter F existe: 283\n",
            "El caracter G existe: 268\n",
            "El caracter H existe: 246\n",
            "El caracter I existe: 984\n",
            "El caracter J existe: 215\n",
            "El caracter K existe: 19\n",
            "El caracter L existe: 215\n",
            "El caracter M existe: 380\n",
            "El caracter N existe: 320\n",
            "El caracter Ñ existe: 0\n",
            "El caracter O existe: 374\n",
            "El caracter P existe: 311\n",
            "El caracter Q existe: 4\n",
            "El caracter R existe: 484\n",
            "El caracter S existe: 400\n",
            "El caracter T existe: 806\n",
            "El caracter U existe: 94\n",
            "El caracter V existe: 53\n",
            "El caracter W existe: 455\n",
            "El caracter X existe: 3\n",
            "El caracter Y existe: 110\n",
            "El caracter Z existe: 2\n",
            "     minusculas\n",
            "El caracter a existe: 8532\n",
            "El caracter b existe: 1687\n",
            "El caracter c existe: 2431\n",
            "El caracter d existe: 4284\n",
            "El caracter e existe: 13886\n",
            "El caracter f existe: 2194\n",
            "El caracter g existe: 1992\n",
            "El caracter h existe: 7159\n",
            "El caracter i existe: 6870\n",
            "El caracter j existe: 160\n",
            "El caracter k existe: 968\n",
            "El caracter l existe: 5070\n",
            "El caracter m existe: 3432\n",
            "El caracter n existe: 7173\n",
            "El caracter ñ existe: 0\n",
            "El caracter o existe: 9564\n",
            "El caracter p existe: 1673\n",
            "El caracter q existe: 72\n",
            "El caracter r existe: 7202\n",
            "El caracter s existe: 6982\n",
            "El caracter t existe: 10245\n",
            "El caracter u existe: 3995\n",
            "El caracter v existe: 1116\n",
            "El caracter w existe: 2401\n",
            "El caracter x existe: 157\n",
            "El caracter y existe: 2828\n",
            "El caracter z existe: 33\n"
          ]
        }
      ]
    }
  ]
}