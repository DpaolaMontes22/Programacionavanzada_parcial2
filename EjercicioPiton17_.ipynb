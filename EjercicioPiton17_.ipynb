{
  "nbformat": 4,
  "nbformat_minor": 0,
  "metadata": {
    "colab": {
      "name": "EjercicioPiton17_.ipynb",
      "provenance": [],
      "collapsed_sections": [],
      "authorship_tag": "ABX9TyOPAN7ed99ZVrBz+s+CAsmA",
      "include_colab_link": true
    },
    "kernelspec": {
      "name": "python3",
      "display_name": "Python 3"
    },
    "language_info": {
      "name": "python"
    }
  },
  "cells": [
    {
      "cell_type": "markdown",
      "metadata": {
        "id": "view-in-github",
        "colab_type": "text"
      },
      "source": [
        "<a href=\"https://colab.research.google.com/github/DpaolaMontes22/Programacionavanzada_parcial2/blob/main/EjercicioPiton17_.ipynb\" target=\"_parent\"><img src=\"https://colab.research.google.com/assets/colab-badge.svg\" alt=\"Open In Colab\"/></a>"
      ]
    },
    {
      "cell_type": "markdown",
      "source": [
        "UPIIH_PROGRAMACION AVANZADA\n",
        "\n",
        "PROGRAMA QUE SIMULA EL JUEGO DE LA VIDA\n",
        "\n",
        "Danna Paola Montes de Oca Hernandez 2021680104"
      ],
      "metadata": {
        "id": "SzZsfO-pfPLN"
      }
    },
    {
      "cell_type": "code",
      "source": [
        "import pygame\n",
        "import numpy as np\n",
        "import time\n",
        "import math\n",
        "pygame.init()\n",
        "size = width, height = 700, 700\n",
        "numberXCells = 60\n",
        "numberYCells = 60\n",
        "sizeCellWidth = (width - 1) / numberXCells\n",
        "sizeCellHeight = (height - 1) / numberYCells\n",
        "background = 25, 25, 25\n",
        "screen = pygame.display.set_mode((height, width), pygame.RESIZABLE)\n",
        "screen.fill(background) \n",
        "gameState = np.zeros((numberXCells, numberYCells))\n",
        "print(gameState)\n",
        "pauseExec = False\n",
        "while 1:\n",
        "    newGameState = np.copy(gameState)\n",
        "    eventt = pygame.event.get()        \n",
        "    for event in eventt:\n",
        "        if event.type == pygame.KEYDOWN:\n",
        "            pauseExec = not pauseExec\n",
        "        mouseClick = pygame.mouse.get_pressed()\n",
        "        if sum(mouseClick) > 0:\n",
        "            positionX, positionY = pygame.mouse.get_pos()\n",
        "            if positionX > 0 and positionX < (width - 1) and positionY > 0 and positionY <(height - 1):\n",
        "                newGameState[math.floor(positionX / sizeCellWidth),\n",
        "                             math.floor(positionY / sizeCellHeight)] = mouseClick[0] and not  mouseClick[2]\n",
        "    screen.fill(background)\n",
        "    for y in range(0, numberYCells):\n",
        "        for x in range(0, numberXCells):    \n",
        "            if not pauseExec:\n",
        "                numberNeigh = gameState[(x - 1) % numberXCells, (y - 1) % numberYCells] + \\\n",
        "                            gameState[(x) % numberXCells, (y - 1) % numberYCells] + \\\n",
        "                            gameState[(x + 1) % numberXCells, (y - 1) % numberYCells] + \\\n",
        "                            gameState[(x - 1) % numberXCells, (y) % numberYCells] + \\\n",
        "                            gameState[(x + 1) % numberXCells, (y) % numberYCells] + \\\n",
        "                            gameState[(x - 1)  % numberXCells, (y + 1) % numberYCells] + \\\n",
        "                            gameState[(x) % numberXCells, (y + 1) % numberYCells] + \\\n",
        "                            gameState[(x + 1) % numberXCells, (y + 1) % numberYCells]\n",
        "                \n",
        "                if gameState[x, y] == 0 and numberNeigh ==3:\n",
        "                    newGameState[x, y] = 1\n",
        "              \n",
        "                elif gameState[x, y] == 1 and (numberNeigh < 2 or numberNeigh > 3):\n",
        "                    newGameState[x, y] = 0\n",
        "\n",
        "\n",
        "            poly = [((x) * sizeCellWidth, (y) * sizeCellHeight),\n",
        "                    ((x + 1) * sizeCellWidth, (y) * sizeCellHeight),\n",
        "                    ((x + 1) * sizeCellWidth, (y + 1) * sizeCellHeight),\n",
        "                    ((x) * sizeCellWidth,  (y + 1) * sizeCellHeight)]\n",
        "            if newGameState[x, y] == 0:\n",
        "                pygame.draw.polygon(screen, (128, 128, 128), poly, 1) \n",
        "            else:\n",
        "                pygame.draw.polygon(screen, (128, 128, 128), poly, 0) \n",
        "    time.sleep(1 / 30)\n",
        "    gameState = np.copy(newGameState)\n",
        "    pygame.display.flip()"
      ],
      "metadata": {
        "id": "CpOl6w_0f5Fn"
      },
      "execution_count": null,
      "outputs": []
    }
  ]
}