{
  "nbformat": 4,
  "nbformat_minor": 0,
  "metadata": {
    "colab": {
      "name": "EjercicioPiton18_.ipynb",
      "provenance": [],
      "collapsed_sections": [],
      "authorship_tag": "ABX9TyPmNBTgN9fsdfmwrtNvrM+Q",
      "include_colab_link": true
    },
    "kernelspec": {
      "name": "python3",
      "display_name": "Python 3"
    },
    "language_info": {
      "name": "python"
    }
  },
  "cells": [
    {
      "cell_type": "markdown",
      "metadata": {
        "id": "view-in-github",
        "colab_type": "text"
      },
      "source": [
        "<a href=\"https://colab.research.google.com/github/DpaolaMontes22/Programacionavanzada_parcial2/blob/main/EjercicioPiton18_.ipynb\" target=\"_parent\"><img src=\"https://colab.research.google.com/assets/colab-badge.svg\" alt=\"Open In Colab\"/></a>"
      ]
    },
    {
      "cell_type": "markdown",
      "source": [
        "UPIIH_PROGRAMACION AVANZADA\n",
        "\n",
        "PROGRAMA QUE SIMULA PENDULO SIMPLE\n",
        "\n",
        "Danna Paola Montes de Oca Hernandez 2021680104"
      ],
      "metadata": {
        "id": "e3zG0a1_gF5g"
      }
    },
    {
      "cell_type": "code",
      "source": [
        "ciclo=True\n",
        "while ciclo:\n",
        " try:\n",
        "     pass \n",
        "     print(\"Masa del pendulo:\")\n",
        "     masa = int(input())\n",
        "     print(\"Aceleracion de la gravedad:\")\n",
        "     gravedad=float(input())\n",
        "     print(\"Longitud del pendulo:\")\n",
        "     longitud=int(input())\n",
        "     print(\"Constante de friccion:\")\n",
        "     Constante= int(input())\n",
        "\n",
        "     if masa>0 and gravedad>0 and longitud>0 and Constante>0:\n",
        "         ciclo=False\n",
        "          \n",
        " except Exception:\n",
        "     pass\n",
        "     print(\"Debe ser positivo!\")  \n",
        "print()\n",
        "\n",
        "import numpy as np\n",
        "import matplotlib.pyplot as plt\n",
        "\n",
        "\n",
        "t=0.\n",
        "thetainc=0\n",
        "omegainc=0.5\n",
        "u=np.array([thetainc,omegainc]) \n",
        "\n",
        "def F(u,t):\n",
        "    return np.array([u[1],-g*np.sin(u[0])/1])\n",
        "\n",
        "\n",
        "tsol=[t]\n",
        "thetasol=[u[0]]\n",
        "omegasol=[u[1]]\n",
        "dt=0.05\n",
        "tfin=10.\n",
        "\n",
        "\n",
        "while t<tfin:\n",
        "    u=u+F(u,t)*dt\n",
        "    t=t+dt\n",
        "    thetasol.append(u[0])\n",
        "    omegasol.append(u[1])\n",
        "    tsol.append(t)\n",
        "\n",
        "\n",
        "import matplotlib.animation as animacion\n",
        "\n",
        "\n",
        "fig=plt.figure()\n",
        "ax=fig.gca()\n",
        "\n",
        "def actualizar(i):\n",
        "    ax.clear()\n",
        "    plt.plot([0,longitud*np.sin(thetasol[i])],[0,-l*np.cos(thetasol[i])],'b-')\n",
        "    plt.plot(longitud*np.sin(thetasol[i]),-longitud*np.cos(thetasol[i]),'ro')\n",
        "    plt.title(str(round(tsol[i],3)))\n",
        "    plt.xlim(-longitud-1,longitud+1)\n",
        "    plt.ylim(-longitud-1,1)\n",
        "\n",
        "animacion=animacion.FuncAnimation(fig, actualizar, range(len(tsol)))\n",
        "plt.show()"
      ],
      "metadata": {
        "id": "IebZ0mtqh29t"
      },
      "execution_count": null,
      "outputs": []
    }
  ]
}