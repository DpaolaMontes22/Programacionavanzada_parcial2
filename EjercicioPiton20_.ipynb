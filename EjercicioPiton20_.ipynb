{
  "nbformat": 4,
  "nbformat_minor": 0,
  "metadata": {
    "colab": {
      "name": "EjercicioPiton20_.ipynb",
      "provenance": [],
      "collapsed_sections": [],
      "authorship_tag": "ABX9TyN8o1qHhJGyG/esF7AxLgg3",
      "include_colab_link": true
    },
    "kernelspec": {
      "name": "python3",
      "display_name": "Python 3"
    },
    "language_info": {
      "name": "python"
    }
  },
  "cells": [
    {
      "cell_type": "markdown",
      "metadata": {
        "id": "view-in-github",
        "colab_type": "text"
      },
      "source": [
        "<a href=\"https://colab.research.google.com/github/DpaolaMontes22/Programacionavanzada_parcial2/blob/main/EjercicioPiton20_.ipynb\" target=\"_parent\"><img src=\"https://colab.research.google.com/assets/colab-badge.svg\" alt=\"Open In Colab\"/></a>"
      ]
    },
    {
      "cell_type": "markdown",
      "source": [
        "UPIIH_PROGRAMACION AVANZADA\n",
        "\n",
        "PROGRAMA QUE SIMULA EL TIRO PARABOLICO \n",
        "\n",
        "Danna Paola Montes de Oca Hernandez 2021680104"
      ],
      "metadata": {
        "id": "sWj-raj_iJX8"
      }
    },
    {
      "cell_type": "code",
      "source": [
        "import numpy as np\n",
        "import matplotlib.pyplot as plt\n",
        "\n",
        "def limite(cad, a, b):\n",
        "    val = 0\n",
        "    while True:\n",
        "        val = float(input(\"Ingresar \" + cad))\n",
        "        if (val > a) and (val < b):\n",
        "            break\n",
        "    return val\n",
        "\n",
        "def simula(caso, v0, an0, h0, vx, vy, g, radT, C_air, rho, A, m, dt, text):\n",
        "    i = 0\n",
        "    x = [0]\n",
        "    y = [h0]\n",
        "    vx = vx\n",
        "    vy = vy\n",
        "    ax = 0\n",
        "    ay = 0\n",
        "    f = open( text + \"_\" + str(caso) + \".txt\" ,\"w\")\n",
        "    \n",
        "    f.write(\"---Caso {}---\\n\". format(caso))\n",
        "    f.write(\"Velocidad inicial        : {} m/s\\n\".format(v0))\n",
        "    f.write(\"Ángulo inicial           : {} °\\n\".format(an0))\n",
        "    f.write(\"Altura inicial           : {} m\\n\".format(h0))\n",
        "    f.write(\"Masa proyectil           : {} kg\\n\".format(m))\n",
        "    f.write(\"Área del proyectil       : {} m^2\\n\".format(A))\n",
        "    f.write(\"Coeficiente aerodinámico : {} \\n\".format(C_air))\n",
        "        \n",
        "    print(\"{0} {1} {2} {3} {4} {5}\".format('i'.rjust(6,' '), 'x'.rjust(12, ' '), 'y'.rjust(12, ' '), '\\u0394t'.rjust(12, ' '), 'g [m/s\\u00B2]'.rjust(12, ' '), '\\u03C1 [kg/m\\u00B3]'.rjust(12, ' ')))\n",
        "    f.write( \"{0} {1} {2} {3} {4} {5}\\n\".format('i'.rjust(6,' '), 'x'.rjust(12, ' '), 'y'.rjust(12, ' '), 'dt'.rjust(12, ' '), 'g [m/s^2]'.rjust(12, ' '), 'rho [kg/m^3]'.rjust(12, ' ')) )\n",
        "    while True:\n",
        "        if(caso == 1):\n",
        "            rho = 0\n",
        "            gc = g\n",
        "        if(caso == 2):\n",
        "            rho = rho\n",
        "            gc = g\n",
        "        if(caso == 3):\n",
        "            rho = -0.0001031*y[i] + 1.216\n",
        "            gc = g\n",
        "        if(caso == 4):\n",
        "            rho = -0.0001031*y[i] + 1.216\n",
        "            gc = g*( ( radT/(radT+y[i]) )**2 )\n",
        "        \n",
        "        angle = np.tan( vy/vx )\n",
        "        ax = -C_air*0.5*rho*A*(vx**2 + vy**2)/m*np.cos(angle)\n",
        "        ay = -gc - C_air*0.5*rho*A*(vx**2 + vy**2)/m*np.sin(angle)\n",
        "        \n",
        "        print(\"{0:6d} {1:12.4f} {2:12.4f} {3:12.4f} {4:12.4f} {5:12.4f}\".format(i, x[i], y[i], i*dt, gc, rho))\n",
        "        f.write(\"{0:6d} {1:12.4f} {2:12.4f} {3:12.4f} {4:12.4f} {5:12.4f}\\n\".format(i, x[i], y[i], i*dt, gc, rho))\n",
        "        vx = vx + ax * dt\n",
        "        vy = vy + ay * dt\n",
        "                \n",
        "        if( y[i] < 0 ):\n",
        "            break\n",
        "        \n",
        "        x.append( x[i] + vx*dt + (1/2)*ax*(dt**2) )\n",
        "        y.append( y[i] + vy*dt + (1/2)*ay*(dt**2) )\n",
        "        i += 1\n",
        "    \n",
        "    f.close()\n",
        "    return x, y\n",
        "\n",
        "v0 = float(input(\"Ingresar velocidad inicial: \"))\n",
        "an0 = float(input(\"Ingresar angulo inicial: \"))\n",
        "h0 = float(input(\"Ingresar altura inicial: \"))\n",
        "m = float(input(\"Ingresar masa del proyectil: \"))\n",
        "A = float(input(\"Ingresar area del proyectil: \"))\n",
        "C_air = 0.25\n",
        "g= 9.80665\n",
        "rho = 1.2254\n",
        "dt = 0.1\n",
        "radT = 6371000\n",
        "texto = \"proyectil\"\n",
        "\n",
        "th0 = an0 * np.pi / 180\n",
        "vx = v0 * np.cos(th0)\n",
        "vy = v0 * np.sin(th0)\n",
        "\n",
        "x, y = simula(1, v0, an0, h0, vx, vy, g, radT, C_air, rho, A, m, dt, texto)\n",
        "x1, y1 = simula(2, v0, an0, h0, vx, vy, g, radT, C_air, rho, A, m, dt, texto)\n",
        "x2, y2 = simula(3, v0, an0, h0, vx, vy, g, radT, C_air, rho, A, m, dt, texto)\n",
        "x3, y3 = simula(4, v0, an0, h0, vx, vy, g, radT, C_air, rho, A, m, dt, texto)\n",
        "\n",
        "plt.plot(x, y, color=(1,0,0))\n",
        "plt.plot(x1, y1, color=(0,0,1))\n",
        "plt.plot(x2, y2, color=(0,0,0))\n",
        "plt.plot(x3, y3, color=(0,1,0))\n",
        "plt.xlabel('x [m]')\n",
        "plt.ylabel('y [m]')\n",
        "plt.legend(['Ideal','Fricción',r'Fricción, $ \\Delta\\rho_{aire} $ ',r'Fricción, $ \\Delta\\rho_{aire}  \\Delta g $ '], loc='upper right')\n",
        "plt.grid()\n",
        "plt.savefig(texto + '_fig.png', transparent = True, dpi = 300)\n",
        "plt.show()\n"
      ],
      "metadata": {
        "colab": {
          "base_uri": "https://localhost:8080/",
          "height": 1000
        },
        "id": "Z2jC4kquiJnU",
        "outputId": "37d622e0-c503-4494-e510-da1452952070"
      },
      "execution_count": 1,
      "outputs": [
        {
          "output_type": "stream",
          "name": "stdout",
          "text": [
            "Ingresar velocidad inicial: 3\n",
            "Ingresar angulo inicial: 20\n",
            "Ingresar altura inicial: 4\n",
            "Ingresar masa del proyectil: 34\n",
            "Ingresar area del proyectil: 2\n",
            "     i            x            y           Δt     g [m/s²]    ρ [kg/m³]\n",
            "     0       0.0000       4.0000       0.0000       9.8066       0.0000\n",
            "     1       0.2819       3.9555       0.1000       9.8066       0.0000\n",
            "     2       0.5638       3.8129       0.2000       9.8066       0.0000\n",
            "     3       0.8457       3.5723       0.3000       9.8066       0.0000\n",
            "     4       1.1276       3.2336       0.4000       9.8066       0.0000\n",
            "     5       1.4095       2.7969       0.5000       9.8066       0.0000\n",
            "     6       1.6914       2.2620       0.6000       9.8066       0.0000\n",
            "     7       1.9734       1.6291       0.7000       9.8066       0.0000\n",
            "     8       2.2553       0.8982       0.8000       9.8066       0.0000\n",
            "     9       2.5372       0.0692       0.9000       9.8066       0.0000\n",
            "    10       2.8191      -0.8579       1.0000       9.8066       0.0000\n",
            "     i            x            y           Δt     g [m/s²]    ρ [kg/m³]\n",
            "     0       0.0000       4.0000       0.0000       9.8066       1.2254\n",
            "     1       0.2808       3.9551       0.1000       9.8066       1.2254\n",
            "     2       0.5609       3.8122       0.2000       9.8066       1.2254\n",
            "     3       0.8402       3.5716       0.3000       9.8066       1.2254\n",
            "     4       1.1188       3.2340       0.4000       9.8066       1.2254\n",
            "     5       1.3981       2.8002       0.5000       9.8066       1.2254\n",
            "     6       1.6758       2.2648       0.6000       9.8066       1.2254\n",
            "     7       1.9505       1.6347       0.7000       9.8066       1.2254\n",
            "     8       2.2269       0.9001       0.8000       9.8066       1.2254\n",
            "     9       2.4980       0.0641       0.9000       9.8066       1.2254\n",
            "    10       2.7617      -0.8707       1.0000       9.8066       1.2254\n",
            "     i            x            y           Δt     g [m/s²]    ρ [kg/m³]\n",
            "     0       0.0000       4.0000       0.0000       9.8066       1.2156\n",
            "     1       0.2808       3.9551       0.1000       9.8066       1.2156\n",
            "     2       0.5609       3.8122       0.2000       9.8066       1.2156\n",
            "     3       0.8402       3.5716       0.3000       9.8066       1.2156\n",
            "     4       1.1189       3.2340       0.4000       9.8066       1.2157\n",
            "     5       1.3982       2.8001       0.5000       9.8066       1.2157\n",
            "     6       1.6759       2.2648       0.6000       9.8066       1.2158\n",
            "     7       1.9506       1.6346       0.7000       9.8066       1.2158\n",
            "     8       2.2271       0.9000       0.8000       9.8066       1.2159\n",
            "     9       2.4983       0.0641       0.9000       9.8066       1.2160\n",
            "    10       2.7622      -0.8707       1.0000       9.8066       1.2161\n",
            "     i            x            y           Δt     g [m/s²]    ρ [kg/m³]\n",
            "     0       0.0000       4.0000       0.0000       9.8066       1.2156\n",
            "     1       0.2808       3.9551       0.1000       9.8066       1.2156\n",
            "     2       0.5609       3.8122       0.2000       9.8066       1.2156\n",
            "     3       0.8402       3.5716       0.3000       9.8066       1.2156\n",
            "     4       1.1189       3.2340       0.4000       9.8066       1.2157\n",
            "     5       1.3982       2.8001       0.5000       9.8066       1.2157\n",
            "     6       1.6759       2.2648       0.6000       9.8066       1.2158\n",
            "     7       1.9506       1.6346       0.7000       9.8066       1.2158\n",
            "     8       2.2271       0.9000       0.8000       9.8066       1.2159\n",
            "     9       2.4983       0.0641       0.9000       9.8066       1.2160\n",
            "    10       2.7622      -0.8707       1.0000       9.8067       1.2161\n"
          ]
        },
        {
          "output_type": "display_data",
          "data": {
            "text/plain": [
              "<Figure size 432x288 with 1 Axes>"
            ],
            "image/png": "[encoded data removed]"
          },
          "metadata": {
            "needs_background": "light"
          }
        }
      ]
    }
  ]
}